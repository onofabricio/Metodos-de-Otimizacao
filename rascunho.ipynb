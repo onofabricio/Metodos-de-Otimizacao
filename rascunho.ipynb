{
 "cells": [
  {
   "cell_type": "markdown",
   "metadata": {},
   "source": [
    "### Para reconhecer a função a ser otimizada"
   ]
  },
  {
   "cell_type": "code",
   "execution_count": 1,
   "metadata": {},
   "outputs": [
    {
     "name": "stdout",
     "output_type": "stream",
     "text": [
      "2*x**2 + 9\n",
      "Expressão reconhecida como um polinômio: 2*x**2 + 9\n",
      "2*cos(x) - 9\n",
      "A expressão não é um polinômio válido.\n"
     ]
    }
   ],
   "source": [
    "from sympy import symbols, simplify\n",
    "\n",
    "def recognize_polynomial(expression):\n",
    "    x = symbols('x')\n",
    "    try:\n",
    "        # Tenta simplificar a expressão fornecida\n",
    "        simplified_expression = simplify(expression)\n",
    "        print(simplified_expression)\n",
    "        # Verifica se a expressão simplificada é um polinômio em relação a 'x'\n",
    "        if simplified_expression.is_polynomial(x):\n",
    "            return simplified_expression\n",
    "        else:\n",
    "            return None\n",
    "    except:\n",
    "        return None\n",
    "\n",
    "while True:\n",
    "    user_input = input(\"Digite uma expressão polinomial (ou 'sair' para encerrar): \")\n",
    "    \n",
    "    if user_input.lower() == 'sair':\n",
    "        break\n",
    "    \n",
    "    polynomial = recognize_polynomial(user_input)\n",
    "    if polynomial is not None:\n",
    "        print(\"Expressão reconhecida como um polinômio:\", polynomial)\n",
    "    else:\n",
    "        print(\"A expressão não é um polinômio válido.\")\n"
   ]
  },
  {
   "cell_type": "markdown",
   "metadata": {},
   "source": [
    "### Exemplo em python\n",
    "https://www.youtube.com/watch?v=JqTASBiMVT8"
   ]
  },
  {
   "cell_type": "code",
   "execution_count": 8,
   "metadata": {},
   "outputs": [
    {
     "ename": "ValueError",
     "evalue": "setting an array element with a sequence.",
     "output_type": "error",
     "traceback": [
      "\u001b[1;31m---------------------------------------------------------------------------\u001b[0m",
      "\u001b[1;31mTypeError\u001b[0m                                 Traceback (most recent call last)",
      "\u001b[1;31mTypeError\u001b[0m: only length-1 arrays can be converted to Python scalars",
      "\nThe above exception was the direct cause of the following exception:\n",
      "\u001b[1;31mValueError\u001b[0m                                Traceback (most recent call last)",
      "Cell \u001b[1;32mIn[8], line 76\u001b[0m\n\u001b[0;32m     74\u001b[0m     a\u001b[39m.\u001b[39mAvaliar()\n\u001b[0;32m     75\u001b[0m     a\u001b[39m.\u001b[39mPLot()\n\u001b[1;32m---> 76\u001b[0m Otimizacao()\n",
      "Cell \u001b[1;32mIn[8], line 74\u001b[0m, in \u001b[0;36mOtimizacao\u001b[1;34m()\u001b[0m\n\u001b[0;32m     72\u001b[0m         \u001b[39mprint\u001b[39m(\u001b[39m'\u001b[39m\u001b[39mBest fitness value = \u001b[39m\u001b[39m'\u001b[39m,\u001b[39mself\u001b[39m\u001b[39m.\u001b[39mgbest_custo)\n\u001b[0;32m     73\u001b[0m a \u001b[39m=\u001b[39m Particula()\n\u001b[1;32m---> 74\u001b[0m a\u001b[39m.\u001b[39;49mAvaliar()\n\u001b[0;32m     75\u001b[0m a\u001b[39m.\u001b[39mPLot()\n",
      "Cell \u001b[1;32mIn[8], line 65\u001b[0m, in \u001b[0;36mOtimizacao.<locals>.Particula.Avaliar\u001b[1;34m(self)\u001b[0m\n\u001b[0;32m     63\u001b[0m         \u001b[39mself\u001b[39m\u001b[39m.\u001b[39mpbest_custo[i] \u001b[39m=\u001b[39m \u001b[39mself\u001b[39m\u001b[39m.\u001b[39mcusto[i]\n\u001b[0;32m     64\u001b[0m         \u001b[39mif\u001b[39;00m \u001b[39mself\u001b[39m\u001b[39m.\u001b[39mpbest_custo[i] \u001b[39m<\u001b[39m \u001b[39mself\u001b[39m\u001b[39m.\u001b[39mgbest_custo:\n\u001b[1;32m---> 65\u001b[0m             \u001b[39mself\u001b[39;49m\u001b[39m.\u001b[39;49mgbest[i] \u001b[39m=\u001b[39m \u001b[39mself\u001b[39m\u001b[39m.\u001b[39mpbest[i]\n\u001b[0;32m     66\u001b[0m             \u001b[39mself\u001b[39m\u001b[39m.\u001b[39mgbest_custo \u001b[39m=\u001b[39m \u001b[39mself\u001b[39m\u001b[39m.\u001b[39mpbest_custo[i]\n\u001b[0;32m     68\u001b[0m \u001b[39mself\u001b[39m\u001b[39m.\u001b[39mBestCusto[it] \u001b[39m=\u001b[39m \u001b[39mself\u001b[39m\u001b[39m.\u001b[39mgbest_custo\n",
      "\u001b[1;31mValueError\u001b[0m: setting an array element with a sequence."
     ]
    }
   ],
   "source": [
    "#Importando bibliotecas\n",
    "import numpy as np\n",
    "import matplotlib.pyplot as plt\n",
    "\n",
    "#Função esfera\n",
    "def Esfera(x):\n",
    "    z = np.sum(np.square(x))\n",
    "    return z\n",
    "\n",
    "#Configurando Parametros\n",
    "d = 10 \n",
    "xMin, xMax = -100, 100 #limite do espaço de busca\n",
    "vMin, vMax = -0.2*(xMax - xMin), 0.2*(xMax - xMin) #limites de velocidade\n",
    "MaxIt = 3000\n",
    "ps = 10\n",
    "c1 = 2\n",
    "c2 = 2\n",
    "w = 0.9 - ((0.9 - 0.4)/MaxIt) * np.linspace(0,MaxIt, MaxIt)\n",
    "\n",
    "def limitV(V):\n",
    "    for i in range(len(V)):\n",
    "        if V[i] > vMax:\n",
    "            V[i] = vMax\n",
    "        if V[i] < vMin:\n",
    "            V[i] = vMin\n",
    "    return V\n",
    "\n",
    "def limitX(X):\n",
    "    for i in range(len(X)):\n",
    "        if X[i] > vMax:\n",
    "            X[i] = vMax\n",
    "        if X[i] < vMin:\n",
    "            X[i] = vMin\n",
    "    return X\n",
    "\n",
    "#Algoritmo PSO\n",
    "def Otimizacao():\n",
    "    class Particula():\n",
    "        def __init__(self):\n",
    "            self.posicao = np.random.uniform(xMin, 50, [ps, d])\n",
    "            self.velocidade = np.random.uniform(vMin, vMax, [ps, d])\n",
    "            self.custo = np.zeros(ps)\n",
    "            self.custo[:] = Esfera(self.posicao[:])\n",
    "            self.pbest = np.copy(self.posicao)\n",
    "            self.pbest_custo = np.copy(self.custo)\n",
    "            self.index = np.argmin(self.pbest_custo)\n",
    "            self.gbest = self.pbest[self.index]\n",
    "            self.gbest_custo = self.pbest_custo[self.index]\n",
    "            self.BestCusto = np.zeros(MaxIt)\n",
    "        \n",
    "        def Avaliar(self):\n",
    "            for it in range(MaxIt):\n",
    "                for i in range(ps):\n",
    "                    self.velocidade[i] = (w[it]*self.velocidade[i] \n",
    "                                          + c1*np.random.rand(d)*(self.pbest[i] - self.posicao[i]) \n",
    "                                          + c2*np.random.rand(d)*(self.gbest - self.posicao[i]))\n",
    "                    self.velocidade[i] = limitV(self.velocidade[i])\n",
    "                    self.posicao[i] = self.posicao[i] + self.velocidade[i]\n",
    "                    self.posicao[i] = limitX(self.posicao[i])\n",
    "                    self.custo[i] = Esfera(self.posicao[i])\n",
    "                    if self.custo[i] < self.pbest_custo[i]:\n",
    "                        self.pbest[i] = self.posicao[i]\n",
    "                        self.pbest_custo[i] = self.custo[i]\n",
    "                        if self.pbest_custo[i] < self.gbest_custo:\n",
    "                            self.gbest[i] = self.pbest[i]\n",
    "                            self.gbest_custo = self.pbest_custo[i]\n",
    "                            \n",
    "                self.BestCusto[it] = self.gbest_custo\n",
    "                \n",
    "        def Plot(self):\n",
    "            plt.semilogy(self.BestCusto)\n",
    "            print('Best fitness value = ',self.gbest_custo)\n",
    "    a = Particula()\n",
    "    a.Avaliar()\n",
    "    a.PLot()\n",
    "Otimizacao()\n"
   ]
  },
  {
   "cell_type": "code",
   "execution_count": null,
   "metadata": {},
   "outputs": [],
   "source": []
  }
 ],
 "metadata": {
  "kernelspec": {
   "display_name": "Python 3",
   "language": "python",
   "name": "python3"
  },
  "language_info": {
   "codemirror_mode": {
    "name": "ipython",
    "version": 3
   },
   "file_extension": ".py",
   "mimetype": "text/x-python",
   "name": "python",
   "nbconvert_exporter": "python",
   "pygments_lexer": "ipython3",
   "version": "3.11.4"
  },
  "orig_nbformat": 4
 },
 "nbformat": 4,
 "nbformat_minor": 2
}
