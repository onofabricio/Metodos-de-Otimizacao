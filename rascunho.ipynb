{
 "cells": [
  {
   "cell_type": "markdown",
   "metadata": {},
   "source": [
    "### Para reconhecer a função a ser otimizada"
   ]
  },
  {
   "cell_type": "code",
   "execution_count": null,
   "metadata": {},
   "outputs": [
    {
     "name": "stdout",
     "output_type": "stream",
     "text": [
      "x\n",
      "Expressão reconhecida como um polinômio: x\n",
      "A expressão não é um polinômio válido.\n",
      "A expressão não é um polinômio válido.\n",
      "A expressão não é um polinômio válido.\n",
      "A expressão não é um polinômio válido.\n",
      "A expressão não é um polinômio válido.\n"
     ]
    },
    {
     "ename": "",
     "evalue": "",
     "output_type": "error",
     "traceback": [
      "\u001b[1;31mCannot execute code, session has been disposed. Please try restarting the Kernel."
     ]
    },
    {
     "ename": "",
     "evalue": "",
     "output_type": "error",
     "traceback": [
      "\u001b[1;31mThe Kernel crashed while executing code in the the current cell or a previous cell. Please review the code in the cell(s) to identify a possible cause of the failure. Click <a href='https://aka.ms/vscodeJupyterKernelCrash'>here</a> for more info. View Jupyter <a href='command:jupyter.viewOutput'>log</a> for further details."
     ]
    }
   ],
   "source": [
    "from sympy import symbols, simplify\n",
    "\n",
    "def recognize_polynomial(expression):\n",
    "    x = symbols('x')\n",
    "    try:\n",
    "        # Tenta simplificar a expressão fornecida\n",
    "        simplified_expression = simplify(expression)\n",
    "        print(simplified_expression)\n",
    "        # Verifica se a expressão simplificada é um polinômio em relação a 'x'\n",
    "        if simplified_expression.is_polynomial(x):\n",
    "            return simplified_expression\n",
    "        else:\n",
    "            return None\n",
    "    except:\n",
    "        return None\n",
    "\n",
    "while True:\n",
    "    user_input = input(\"Digite uma expressão polinomial (ou 'sair' para encerrar): \")\n",
    "    \n",
    "    if user_input.lower() == 'sair':\n",
    "        break\n",
    "    \n",
    "    polynomial = recognize_polynomial(user_input)\n",
    "    if polynomial is not None:\n",
    "        print(\"Expressão reconhecida como um polinômio:\", polynomial)\n",
    "    else:\n",
    "        print(\"A expressão não é um polinômio válido.\")\n"
   ]
  },
  {
   "cell_type": "markdown",
   "metadata": {},
   "source": [
    "### Exemplo em python\n",
    "https://www.youtube.com/watch?v=JqTASBiMVT8"
   ]
  },
  {
   "cell_type": "code",
   "execution_count": 1,
   "metadata": {},
   "outputs": [
    {
     "name": "stdout",
     "output_type": "stream",
     "text": [
      "Best fitness value =  8.469340256235613e-58\n"
     ]
    },
    {
     "data": {
      "image/png": "[encoded data removed]",
      "text/plain": [
       "<Figure size 640x480 with 1 Axes>"
      ]
     },
     "metadata": {},
     "output_type": "display_data"
    }
   ],
   "source": [
    "#Importando bibliotecas\n",
    "import numpy as np\n",
    "import matplotlib.pyplot as plt\n",
    "\n",
    "#Função esfera\n",
    "def Esfera(x):\n",
    "    z = np.sum(np.square(x))\n",
    "    return z\n",
    "\n",
    "#Configurando Parametros\n",
    "d = 10 \n",
    "xMin, xMax = -100, 100 #limite do espaço de busca\n",
    "vMin, vMax = -0.2*(xMax - xMin), 0.2*(xMax - xMin) #limites de velocidade\n",
    "MaxIt = 3000\n",
    "ps = 10\n",
    "c1 = 2\n",
    "c2 = 2\n",
    "w = 0.9 - ((0.9 - 0.4)/MaxIt) * np.linspace(0,MaxIt, MaxIt)\n",
    "\n",
    "def limitV(V):\n",
    "    for i in range(len(V)):\n",
    "        if V[i] > vMax:\n",
    "            V[i] = vMax\n",
    "        if V[i] < vMin:\n",
    "            V[i] = vMin\n",
    "    return V\n",
    "\n",
    "def limitX(X):\n",
    "    for i in range(len(X)):\n",
    "        if X[i] > vMax:\n",
    "            X[i] = vMax\n",
    "        if X[i] < vMin:\n",
    "            X[i] = vMin\n",
    "    return X\n",
    "\n",
    "#Algoritmo PSO\n",
    "def Otimizacao():\n",
    "    class Particula():\n",
    "        def __init__(self):\n",
    "            self.posicao = np.random.uniform(xMin, 50, [ps, d])\n",
    "            self.velocidade = np.random.uniform(vMin, vMax, [ps, d])\n",
    "            self.custo = np.zeros(ps)\n",
    "            self.custo[:] = Esfera(self.posicao[:])\n",
    "            self.pbest = np.copy(self.posicao)\n",
    "            self.pbest_custo = np.copy(self.custo)\n",
    "            self.index = np.argmin(self.pbest_custo)\n",
    "            self.gbest = self.pbest[self.index]\n",
    "            self.gbest_custo = self.pbest_custo[self.index]\n",
    "            self.BestCusto = np.zeros(MaxIt)\n",
    "        \n",
    "        def Avaliar(self):\n",
    "            for it in range(MaxIt):\n",
    "                for i in range(ps):\n",
    "                    self.velocidade[i] = (w[it]*self.velocidade[i] \n",
    "                                          + c1*np.random.rand(d)*(self.pbest[i] - self.posicao[i]) \n",
    "                                          + c2*np.random.rand(d)*(self.gbest - self.posicao[i]))\n",
    "                    self.velocidade[i] = limitV(self.velocidade[i])\n",
    "                    self.posicao[i] = self.posicao[i] + self.velocidade[i]\n",
    "                    self.posicao[i] = limitX(self.posicao[i])\n",
    "                    self.custo[i] = Esfera(self.posicao[i])\n",
    "                    if self.custo[i] < self.pbest_custo[i]:\n",
    "                        self.pbest[i] = self.posicao[i]\n",
    "                        self.pbest_custo[i] = self.custo[i]\n",
    "                        if self.pbest_custo[i] < self.gbest_custo:\n",
    "                            self.gbest = self.pbest[i]\n",
    "                            self.gbest_custo = self.pbest_custo[i]\n",
    "                            \n",
    "                self.BestCusto[it] = self.gbest_custo\n",
    "                \n",
    "        def Plot(self):\n",
    "            plt.semilogy(self.BestCusto)\n",
    "            print('Best fitness value = ',self.gbest_custo)\n",
    "    a = Particula()\n",
    "    a.Avaliar()\n",
    "    a.Plot()\n",
    "Otimizacao()\n"
   ]
  },
  {
   "cell_type": "code",
   "execution_count": 2,
   "metadata": {},
   "outputs": [
    {
     "name": "stdout",
     "output_type": "stream",
     "text": [
      "Best fitness value =  1.1584647255806438e-55\n"
     ]
    },
    {
     "data": {
      "image/png": "[encoded data removed]",
      "text/plain": [
       "<Figure size 640x480 with 1 Axes>"
      ]
     },
     "metadata": {},
     "output_type": "display_data"
    }
   ],
   "source": [
    "#Importando bibliotecas\n",
    "import numpy as np\n",
    "import matplotlib.pyplot as plt\n",
    "\n",
    "#Função esfera\n",
    "def Esfera(x):\n",
    "    z = np.sum(np.square(x))\n",
    "    return z\n",
    "\n",
    "#Definição de particula\n",
    "class Particula():\n",
    "        def __init__(self):\n",
    "            self.posicao = np.random.uniform(xMin, 50, [ps, d])\n",
    "            self.velocidade = np.random.uniform(vMin, vMax, [ps, d])\n",
    "            self.custo = np.zeros(ps)\n",
    "            self.custo[:] = Esfera(self.posicao[:])\n",
    "            self.pbest = np.copy(self.posicao)\n",
    "            self.pbest_custo = np.copy(self.custo)\n",
    "            self.index = np.argmin(self.pbest_custo)\n",
    "            self.gbest = self.pbest[self.index]\n",
    "            self.gbest_custo = self.pbest_custo[self.index]\n",
    "            self.BestCusto = np.zeros(MaxIt)\n",
    "            \n",
    "#Configurando Parametros\n",
    "d = 10 \n",
    "xMin, xMax = -100, 100 #limite do espaço de busca\n",
    "vMin, vMax = -0.2*(xMax - xMin), 0.2*(xMax - xMin) #limites de velocidade\n",
    "MaxIt = 3000\n",
    "ps = 10\n",
    "c1 = 2\n",
    "c2 = 2\n",
    "w = 0.9 - ((0.9 - 0.4)/MaxIt) * np.linspace(0,MaxIt, MaxIt)\n",
    "\n",
    "def limitV(V):\n",
    "    for i in range(len(V)):\n",
    "        if V[i] > vMax:\n",
    "            V[i] = vMax\n",
    "        if V[i] < vMin:\n",
    "            V[i] = vMin\n",
    "    return V\n",
    "\n",
    "def limitX(X):\n",
    "    for i in range(len(X)):\n",
    "        if X[i] > vMax:\n",
    "            X[i] = vMax\n",
    "        if X[i] < vMin:\n",
    "            X[i] = vMin\n",
    "    return X\n",
    "\n",
    "#Algoritmo PSO\n",
    "def Otimizacao():\n",
    "    class Particula():\n",
    "        def __init__(self):\n",
    "            self.posicao = np.random.uniform(xMin, 50, [ps, d])\n",
    "            self.velocidade = np.random.uniform(vMin, vMax, [ps, d])\n",
    "            self.custo = np.zeros(ps)\n",
    "            self.custo[:] = Esfera(self.posicao[:])\n",
    "            self.pbest = np.copy(self.posicao)\n",
    "            self.pbest_custo = np.copy(self.custo)\n",
    "            self.index = np.argmin(self.pbest_custo)\n",
    "            self.gbest = self.pbest[self.index]\n",
    "            self.gbest_custo = self.pbest_custo[self.index]\n",
    "            self.BestCusto = np.zeros(MaxIt)\n",
    "        \n",
    "        def Avaliar(self):\n",
    "            for it in range(MaxIt):\n",
    "                for i in range(ps):\n",
    "                    self.velocidade[i] = (w[it]*self.velocidade[i] \n",
    "                                          + c1*np.random.rand(d)*(self.pbest[i] - self.posicao[i]) \n",
    "                                          + c2*np.random.rand(d)*(self.gbest - self.posicao[i]))\n",
    "                    self.velocidade[i] = limitV(self.velocidade[i])\n",
    "                    self.posicao[i] = self.posicao[i] + self.velocidade[i]\n",
    "                    self.posicao[i] = limitX(self.posicao[i])\n",
    "                    self.custo[i] = Esfera(self.posicao[i])\n",
    "                    if self.custo[i] < self.pbest_custo[i]:\n",
    "                        self.pbest[i] = self.posicao[i]\n",
    "                        self.pbest_custo[i] = self.custo[i]\n",
    "                        if self.pbest_custo[i] < self.gbest_custo:\n",
    "                            self.gbest = self.pbest[i]\n",
    "                            self.gbest_custo = self.pbest_custo[i]\n",
    "                            \n",
    "                self.BestCusto[it] = self.gbest_custo\n",
    "                \n",
    "        def Plot(self):\n",
    "            plt.semilogy(self.BestCusto)\n",
    "            print('Best fitness value = ',self.gbest_custo)\n",
    "    a = Particula()\n",
    "    a.Avaliar()\n",
    "    a.Plot()\n",
    "Otimizacao()\n"
   ]
  },
  {
   "cell_type": "markdown",
   "metadata": {},
   "source": [
    "### Para restrições\n"
   ]
  },
  {
   "cell_type": "code",
   "execution_count": 3,
   "metadata": {},
   "outputs": [],
   "source": [
    "from sympy import symbols, simplify, Symbol, Function, lambdify\n",
    "def reconhece_funcao(expressao):\n",
    "    \n",
    "    x = symbols('x')\n",
    "    y = symbols('y')\n",
    "    try:\n",
    "        # Tenta simplificar a expressão fornecida\n",
    "        simplificada_expressao = simplify(expressao)\n",
    "        print(simplificada_expressao)\n",
    "        \n",
    "    except:\n",
    "        raise('Erro de formatação')\n",
    "    \n",
    "    return lambdify([x, y], simplificada_expressao, 'numpy')"
   ]
  },
  {
   "cell_type": "code",
   "execution_count": 4,
   "metadata": {},
   "outputs": [
    {
     "name": "stdout",
     "output_type": "stream",
     "text": [
      "x > 0\n"
     ]
    }
   ],
   "source": [
    "condicao = 'x>0'\n",
    "g = reconhece_funcao(condicao)"
   ]
  },
  {
   "cell_type": "code",
   "execution_count": 5,
   "metadata": {},
   "outputs": [
    {
     "data": {
      "text/plain": [
       "False"
      ]
     },
     "execution_count": 5,
     "metadata": {},
     "output_type": "execute_result"
    }
   ],
   "source": [
    "g(-1, 4)"
   ]
  },
  {
   "cell_type": "code",
   "execution_count": 11,
   "metadata": {},
   "outputs": [
    {
     "data": {
      "text/plain": [
       "False"
      ]
     },
     "execution_count": 11,
     "metadata": {},
     "output_type": "execute_result"
    }
   ],
   "source": [
    "all([True, True, False])"
   ]
  }
 ],
 "metadata": {
  "kernelspec": {
   "display_name": "Python 3",
   "language": "python",
   "name": "python3"
  },
  "language_info": {
   "codemirror_mode": {
    "name": "ipython",
    "version": 3
   },
   "file_extension": ".py",
   "mimetype": "text/x-python",
   "name": "python",
   "nbconvert_exporter": "python",
   "pygments_lexer": "ipython3",
   "version": "3.11.4"
  },
  "orig_nbformat": 4
 },
 "nbformat": 4,
 "nbformat_minor": 2
}
